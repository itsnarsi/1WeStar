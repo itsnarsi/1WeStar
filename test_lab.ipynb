{
 "cells": [
  {
   "cell_type": "code",
   "execution_count": 1,
   "metadata": {},
   "outputs": [],
   "source": [
    "import os\n",
    "import numpy as np\n",
    "\n",
    "import torch\n",
    "torch.manual_seed(29)\n",
    "from torch import nn\n",
    "from torch.autograd import Variable\n",
    "import torch.backends.cudnn as cudnn\n",
    "import torch.nn.parallel\n",
    "cudnn.benchmark = True\n",
    "from torch.utils.data import DataLoader\n",
    "\n",
    "from torchstat import stat\n",
    "from utils import  models\n",
    "from utils.data import dataset_1\n",
    "from utils.trainer_utils import parfilter\n",
    "\n",
    "from PIL import Image, ImageFile\n",
    "ImageFile.LOAD_TRUNCATED_IMAGES = True\n",
    "\n",
    "from skimage.measure import compare_psnr, compare_ssim\n",
    "\n",
    "from matplotlib import pyplot as plt\n",
    "\n",
    "from glob import glob\n",
    "from tqdm import tqdm\n",
    "\n",
    "from PIL.PngImagePlugin import PngImageFile, PngInfo"
   ]
  },
  {
   "cell_type": "code",
   "execution_count": 2,
   "metadata": {
    "scrolled": true
   },
   "outputs": [
    {
     "name": "stdout",
     "output_type": "stream",
     "text": [
      "[-4, -4, 36, 36]\n",
      "[-4, 28, 36, 68]\n",
      "[-4, 60, 36, 100]\n",
      "[-4, 92, 36, 132]\n",
      "[-4, 124, 36, 164]\n",
      "[-4, 156, 36, 196]\n",
      "[28, -4, 68, 36]\n",
      "[28, 28, 68, 68]\n",
      "[28, 60, 68, 100]\n",
      "[28, 92, 68, 132]\n",
      "[28, 124, 68, 164]\n",
      "[28, 156, 68, 196]\n",
      "[60, -4, 100, 36]\n",
      "[60, 28, 100, 68]\n",
      "[60, 60, 100, 100]\n",
      "[60, 92, 100, 132]\n",
      "[60, 124, 100, 164]\n",
      "[60, 156, 100, 196]\n",
      "[92, -4, 132, 36]\n",
      "[92, 28, 132, 68]\n",
      "[92, 60, 132, 100]\n",
      "[92, 92, 132, 132]\n",
      "[92, 124, 132, 164]\n",
      "[92, 156, 132, 196]\n",
      "[124, -4, 164, 36]\n",
      "[124, 28, 164, 68]\n",
      "[124, 60, 164, 100]\n",
      "[124, 92, 164, 132]\n",
      "[124, 124, 164, 164]\n",
      "[124, 156, 164, 196]\n",
      "[156, -4, 196, 36]\n",
      "[156, 28, 196, 68]\n",
      "[156, 60, 196, 100]\n",
      "[156, 92, 196, 132]\n",
      "[156, 124, 196, 164]\n",
      "[156, 156, 196, 196]\n",
      "[188, -4, 228, 36]\n",
      "[188, 28, 228, 68]\n",
      "[188, 60, 228, 100]\n",
      "[188, 92, 228, 132]\n",
      "[188, 124, 228, 164]\n",
      "[188, 156, 228, 196]\n",
      "[220, -4, 260, 36]\n",
      "[220, 28, 260, 68]\n",
      "[220, 60, 260, 100]\n",
      "[220, 92, 260, 132]\n",
      "[220, 124, 260, 164]\n",
      "[220, 156, 260, 196]\n"
     ]
    }
   ],
   "source": [
    "for i in list(np.arange(0, 256, 32)):\n",
    "    for j in list(np.arange(0, 192, 32)):\n",
    "        print([i-4, j-4, (i+32)+4, (j+32)+4])"
   ]
  },
  {
   "cell_type": "code",
   "execution_count": 2,
   "metadata": {},
   "outputs": [],
   "source": [
    "def image_quality_comp(I, Iout, Enout):\n",
    "    \n",
    "    for x in ['test.png', 'test_35.jpg', 'test.flif', 'test1.png', 'test1.flif', 'test_comp.png']: \n",
    "        if os.path.exists(x):os.remove(x)\n",
    "    \n",
    "    I.save('test.png')\n",
    "    Iout.save('test_comp.png')\n",
    "    I.save('test_10.jpg', quality = 10)\n",
    "    Enout.save('test1.png')\n",
    "    \n",
    "    os.system(\"flif -e test.png test.flif\")\n",
    "    os.system(\"flif -e test1.png test1.flif\")\n",
    "    \n",
    "    print('Original Image :: ')\n",
    "    print('PNG     :: ' + str(8*os.path.getsize('test.png')/(I.size[0] * I.size[1])))\n",
    "    print('JPG-10% :: ' + str(8*os.path.getsize('test_10.jpg')/(I.size[0] * I.size[1])))\n",
    "    print('FLIF    :: ' + str(8*os.path.getsize('test.flif')/(I.size[0] * I.size[1])))\n",
    "    print('Encoded Image :: ')\n",
    "    print('PNG     :: ' + str(8*os.path.getsize('test1.png')/(I.size[0] * I.size[1])))\n",
    "    print('FLIF    :: ' + str(8*os.path.getsize('test1.flif')/(I.size[0] * I.size[1])))\n",
    "    \n",
    "def image_quality_comp2(I, Iout):\n",
    "    \n",
    "    for x in ['test.png', 'test_35.jpg', 'test.flif', 'test1.png', 'test1.flif', 'test_comp.png']: \n",
    "        if os.path.exists(x):os.remove(x)\n",
    "    \n",
    "    I.save('test.png')\n",
    "    Iout.save('test_comp.png')\n",
    "    I.save('test_10.jpg', quality = 10)\n",
    "    \n",
    "    os.system(\"flif -e test.png test.flif\")\n",
    "    \n",
    "    print('Original Image :: ')\n",
    "    print('PNG     :: ' + str(8*os.path.getsize('test.png')/(I.size[0] * I.size[1])))\n",
    "    print('JPG-10% :: ' + str(8*os.path.getsize('test_10.jpg')/(I.size[0] * I.size[1])))\n",
    "    print('FLIF    :: ' + str(8*os.path.getsize('test.flif')/(I.size[0] * I.size[1])))"
   ]
  },
  {
   "cell_type": "code",
   "execution_count": 3,
   "metadata": {},
   "outputs": [],
   "source": [
    "def compress_and_decompress(img, model, src_fldr, dst_fldr):\n",
    "    I_org = Image.open(img).convert('RGB')\n",
    "    \n",
    "    s_ = 512\n",
    "    d_ = 128\n",
    "    \n",
    "    w, h = I_org.size\n",
    "    I = np.uint8(I_org).copy()\n",
    "    I = np.pad(I, ((0, int(s_*np.ceil(I.shape[0]/s_) - I.shape[0])), \n",
    "                   (0, int(s_*np.ceil(I.shape[1]/s_) - I.shape[1])), \n",
    "                   (0, 0)), mode = \"reflect\")\n",
    "    I = Image.fromarray(I)\n",
    "    \n",
    "    \n",
    "    I1 = np.float32(I)#[:256, :256, :]\n",
    "    I1 = np.transpose(I1, [2, 0, 1])\n",
    "    Iout = np.zeros_like(I1)\n",
    "    for i in range(0, I1.shape[1], s_):\n",
    "        for j in range(0, I1.shape[2], s_):\n",
    "            It = torch.from_numpy(np.expand_dims(I1[:, i:i+s_, j:j+s_], 0))/255.0\n",
    "            X = model(It.cuda())\n",
    "            X = X.data.squeeze().cpu().numpy()\n",
    "            Iout[:, i:i+s_, j:j+s_] = np.clip(X, 0, 1)\n",
    "            \n",
    "    Iout = np.uint8(255 * Iout.transpose([1, 2, 0]))\n",
    "    Iout = Image.fromarray(Iout).crop((0, 0, w, h))\n",
    "    \n",
    "    Iout.save(img.replace(src_fldr, dst_fldr))\n",
    "    return Iout\n",
    "\n",
    "def compress_and_decompress2(img, model):\n",
    "    I_org = Image.open(img).convert('RGB')\n",
    "    \n",
    "    s_ = 512\n",
    "    d_ = 128\n",
    "    \n",
    "    w, h = I_org.size\n",
    "    I = np.uint8(I_org).copy()\n",
    "    I = np.pad(I, ((0, int(s_*np.ceil(I.shape[0]/s_) - I.shape[0])), \n",
    "                   (0, int(s_*np.ceil(I.shape[1]/s_) - I.shape[1])), \n",
    "                   (0, 0)), mode = \"reflect\")\n",
    "    I = Image.fromarray(I)\n",
    "    \n",
    "    \n",
    "    I1 = np.float32(I)#[:256, :256, :]\n",
    "    I1 = np.transpose(I1, [2, 0, 1])\n",
    "    Iout = np.zeros_like(I1)\n",
    "    for i in range(0, I1.shape[1], s_):\n",
    "        for j in range(0, I1.shape[2], s_):\n",
    "            It = torch.from_numpy(np.expand_dims(I1[:, i:i+s_, j:j+s_], 0))/255.0\n",
    "            X = model(It.cuda())\n",
    "            X = X.data.squeeze().cpu().numpy()\n",
    "            Iout[:, i:i+s_, j:j+s_] = np.clip(X, 0, 1)\n",
    "            \n",
    "    Iout = np.uint8(255 * Iout.transpose([1, 2, 0]))\n",
    "    Iout = Image.fromarray(Iout).crop((0, 0, w, h))\n",
    "    \n",
    "    \n",
    "    return Iout\n",
    "\n",
    "def compress2(img, model):\n",
    "    I_org = Image.open(img).convert('RGB')\n",
    "    \n",
    "    s_ = 512\n",
    "    d_ = 128\n",
    "    \n",
    "    w, h = I_org.size\n",
    "    I = np.uint8(I_org).copy()\n",
    "    I = np.pad(I, ((0, int(s_*np.ceil(I.shape[0]/s_) - I.shape[0])), \n",
    "                   (0, int(s_*np.ceil(I.shape[1]/s_) - I.shape[1])), \n",
    "                   (0, 0)), mode = \"reflect\")\n",
    "    I = Image.fromarray(I)\n",
    "    \n",
    "    \n",
    "    I1 = np.float32(I)#[:256, :256, :]\n",
    "    I1 = np.transpose(I1, [2, 0, 1])\n",
    "    Eout = []\n",
    "    for i in range(0, I1.shape[1], s_):\n",
    "        for j in range(0, I1.shape[2], s_):\n",
    "            It = torch.from_numpy(np.expand_dims(I1[:, i:i+s_, j:j+s_], 0))/255.0\n",
    "            X = model.encode(It.cuda())\n",
    "            X = X.data.squeeze().cpu().numpy()\n",
    "            Eout.append(X)\n",
    "            \n",
    "    return np.concatenate(Eout)"
   ]
  },
  {
   "cell_type": "code",
   "execution_count": 4,
   "metadata": {},
   "outputs": [],
   "source": [
    "def perform_compression(I_org, model):\n",
    "    \n",
    "    w, h = I_org.size\n",
    "    I = np.uint8(I_org).copy()\n",
    "    I = np.pad(I, ((0, int(256*np.ceil(I.shape[0]/256) - I.shape[0])), \n",
    "                   (0, int(256*np.ceil(I.shape[1]/256) - I.shape[1])), \n",
    "                   (0, 0)), mode = \"reflect\")\n",
    "    I = Image.fromarray(I)\n",
    "    \n",
    "    \n",
    "    s_ = 512\n",
    "    d_ = 512//16\n",
    "    \n",
    "    c_ = s_//d_\n",
    "    \n",
    "    I1 = np.float32(I)#[:256, :256, :]\n",
    "    I1 = np.transpose(I1, [2, 0, 1])\n",
    "    Iout = np.zeros_like(I1)\n",
    "    Enout = np.zeros((3, I1.shape[1]//c_, I1.shape[2]//c_))\n",
    "    for i in range(0, I1.shape[1], s_):\n",
    "        for j in range(0, I1.shape[2], s_):\n",
    "            It = torch.from_numpy(np.expand_dims(I1[:, i:i+s_, j:j+s_], 0))/255.0\n",
    "            Xe = model.encode(It.cuda())\n",
    "            X = model.decode(Xe)\n",
    "            X = X.data.squeeze().cpu().numpy()\n",
    "            Iout[:, i:i+s_, j:j+s_] = np.clip(X, 0, 1)\n",
    "            Xe = (Xe + 1)/2\n",
    "            Enout[:, i//c_:(i+s_)//c_, j//c_:(j+s_)//c_] = Xe.data.squeeze().cpu().numpy()\n",
    "    \n",
    "    \n",
    "    Iout = np.uint8(255 * Iout.transpose([1, 2, 0]))\n",
    "    Enout = np.uint8(255 * Enout.transpose([1, 2, 0]))\n",
    "    \n",
    "    Iout = Image.fromarray(Iout).crop((0, 0, w, h))\n",
    "    Enout = Image.fromarray(Enout)\n",
    "    \n",
    "    psnr = compare_psnr(np.uint8(I_org).copy(), np.uint8(Iout).copy())\n",
    "#     ssim = compare_ssim(np.uint8(I_org).copy(), np.uint8(Iout).copy())\n",
    "    \n",
    "    print('PSNR-PROP :: ' + \"{0:0.02f}\".format(psnr))\n",
    "#     print('SSIM-PROP :: ' + \"{0:0.02f}\".format(ssim), multichannel=True)\n",
    "    \n",
    "    image_quality_comp(I_org, Iout, Enout)\n",
    "    psnr = compare_psnr(np.uint8(I_org).copy(), np.uint8(Image.open('test_10.jpg')).copy())\n",
    "    print('PSNR-JPG10 :: ' + \"{0:0.02f}\".format(psnr))\n",
    "    \n",
    "    \n",
    "    return Iout, Enout"
   ]
  },
  {
   "cell_type": "code",
   "execution_count": 5,
   "metadata": {},
   "outputs": [],
   "source": [
    "def perform_compression2(I_org, model):\n",
    "    \n",
    "    c_ = 8\n",
    "    \n",
    "    w, h = I_org.size\n",
    "    I = np.uint8(I_org).copy()\n",
    "    I = np.pad(I, ((0, int(c_*np.ceil(I.shape[0]/c_) - I.shape[0])), \n",
    "                   (0, int(c_*np.ceil(I.shape[1]/c_) - I.shape[1])), \n",
    "                   (0, 0)), mode = \"reflect\")\n",
    "    I = Image.fromarray(I)\n",
    "    \n",
    "    \n",
    "    I1 = np.float32(I)#[:256, :256, :]\n",
    "    I1 = np.transpose(I1, [2, 0, 1])/255.0\n",
    "    Xe = model.encode(torch.from_numpy(np.expand_dims(I1, 0)).cuda())\n",
    "    X = model.decode(Xe)\n",
    "    X = X.data.squeeze().cpu().numpy()\n",
    "    Iout = np.clip(X, 0, 1)\n",
    "    Xe = (Xe + 1)/2\n",
    "    Enout = Xe.data.squeeze().cpu().numpy()\n",
    "    \n",
    "    Iout = np.uint8(255 * Iout.transpose([1, 2, 0]))\n",
    "    Enout = np.uint8(255 * Enout.transpose([1, 2, 0]))\n",
    "    \n",
    "    Iout = Image.fromarray(Iout).crop((0, 0, w, h))\n",
    "    Enout = Image.fromarray(Enout)\n",
    "    \n",
    "    psnr = compare_psnr(np.uint8(I_org).copy(), np.uint8(Iout).copy())\n",
    "#     ssim = compare_ssim(np.uint8(I_org).copy(), np.uint8(Iout).copy())\n",
    "    \n",
    "    print('PSNR-PROP :: ' + \"{0:0.02f}\".format(psnr))\n",
    "#     print('SSIM-PROP :: ' + \"{0:0.02f}\".format(ssim), multichannel=True)\n",
    "    \n",
    "    image_quality_comp(I_org, Iout, Enout)\n",
    "    psnr = compare_psnr(np.uint8(I_org).copy(), np.uint8(Image.open('test_10.jpg')).copy())\n",
    "    print('PSNR-JPG10 :: ' + \"{0:0.02f}\".format(psnr))\n",
    "    \n",
    "    \n",
    "    return Iout, Enout"
   ]
  },
  {
   "cell_type": "code",
   "execution_count": 6,
   "metadata": {},
   "outputs": [],
   "source": [
    "img_file = \"/media/cibitaw1/DATA/super_rez/professional_valid/valid/alberto-montalesi-176097.png\""
   ]
  },
  {
   "cell_type": "code",
   "execution_count": 7,
   "metadata": {},
   "outputs": [],
   "source": [
    "I = Image.open(img_file).convert(\"RGB\")"
   ]
  },
  {
   "cell_type": "code",
   "execution_count": 8,
   "metadata": {},
   "outputs": [
    {
     "name": "stdout",
     "output_type": "stream",
     "text": [
      ".\n"
     ]
    }
   ],
   "source": [
    "model = models.QuantACTShuffleV7()\n",
    "check_point_file = \"/media/cibitaw1/DATA/SP2020/compressACT/weights/\"+\\\n",
    "\"QuantACTShuffleV7_exp01/checkpoint.pth.tar\"\n",
    "checkpoint = torch.load(check_point_file)\n",
    "model.load_state_dict(checkpoint['state_dict'], strict = False)\n",
    "model.cuda()\n",
    "model.eval()\n",
    "print('.')"
   ]
  },
  {
   "cell_type": "code",
   "execution_count": null,
   "metadata": {},
   "outputs": [],
   "source": [
    "M = models.QuantACTShuffleV3()\n",
    "check_point_file = \"/media/narsi/LargeData/SP_2020/compressACT/weights/QuantACTShuffleV3_exp02/model_best.pth.tar\"\n",
    "checkpoint = torch.load(check_point_file)\n",
    "M.load_state_dict(checkpoint['state_dict'], strict = False)\n",
    "\n",
    "model = models.CleanImg(M)\n",
    "check_point_file = \"/media/narsi/LargeData/SP_2020/compressACT/weights/CleanImg_exp01/model_best.pth.tar\"\n",
    "checkpoint = torch.load(check_point_file)\n",
    "model.load_state_dict(checkpoint['state_dict'], strict = False)"
   ]
  },
  {
   "cell_type": "code",
   "execution_count": 9,
   "metadata": {
    "scrolled": false
   },
   "outputs": [
    {
     "name": "stdout",
     "output_type": "stream",
     "text": [
      "PSNR-PROP :: 30.43\n",
      "Original Image :: \n",
      "PNG     :: 12.19391966250917\n",
      "JPG-10% :: 0.1823585381511372\n",
      "FLIF    :: 10.78488112160675\n",
      "Encoded Image :: \n",
      "PNG     :: 0.07856061995597946\n",
      "FLIF    :: 0.07661465975788702\n",
      "PSNR-JPG10 :: 30.35\n"
     ]
    }
   ],
   "source": [
    "Iout, Enout = perform_compression(I, model)"
   ]
  },
  {
   "cell_type": "code",
   "execution_count": null,
   "metadata": {},
   "outputs": [],
   "source": [
    "Iout = compress_and_decompress2(img_file, model)\n",
    "image_quality_comp(I, Iout)\n",
    "psnr = compare_psnr(np.uint8(I).copy(), np.uint8(Iout).copy())\n",
    "print('PSNR-PROP :: ' + \"{0:0.02f}\".format(psnr))\n",
    "psnr = compare_psnr(np.uint8(I).copy(), np.uint8(Image.open('test_10.jpg')).copy())\n",
    "print('PSNR-JPG35 :: ' + \"{0:0.02f}\".format(psnr))"
   ]
  },
  {
   "cell_type": "code",
   "execution_count": null,
   "metadata": {},
   "outputs": [],
   "source": [
    "eout = compress2(img_file, model)\n",
    "eout = np.uint8(eout == 1).reshape(-1)"
   ]
  },
  {
   "cell_type": "code",
   "execution_count": null,
   "metadata": {},
   "outputs": [],
   "source": [
    "len(eout)/(I.size[0] * I.size[1])"
   ]
  },
  {
   "cell_type": "code",
   "execution_count": null,
   "metadata": {},
   "outputs": [],
   "source": [
    "dist = plt.hist(eout, bins = 2)\n",
    "print(dist[0]/np.sum(dist[0]))"
   ]
  },
  {
   "cell_type": "code",
   "execution_count": null,
   "metadata": {},
   "outputs": [],
   "source": [
    "from range_coder import RangeEncoder, RangeDecoder, prob_to_cum_freq\n",
    "\n",
    "data = list(eout.tolist())\n",
    "prob = list(dist[0]/np.sum(dist[0]))\n",
    "\n",
    "# convert probabilities to cumulative integer frequency table\n",
    "cumFreq = prob_to_cum_freq(prob, resolution=128)\n",
    "\n",
    "filepath = 'test.dat'\n",
    "\n",
    "# encode data\n",
    "encoder = RangeEncoder(filepath)\n",
    "encoder.encode(data, cumFreq)\n",
    "encoder.close()\n",
    "\n",
    "# decode data\n",
    "decoder = RangeDecoder(filepath)\n",
    "dataRec = decoder.decode(len(data), cumFreq)\n",
    "decoder.close()\n"
   ]
  },
  {
   "cell_type": "code",
   "execution_count": null,
   "metadata": {},
   "outputs": [],
   "source": [
    "(os.path.getsize('test.dat')*8)/(I.size[0] * I.size[1])"
   ]
  },
  {
   "cell_type": "code",
   "execution_count": null,
   "metadata": {
    "scrolled": true
   },
   "outputs": [],
   "source": [
    "model = models.QuantACTShuffleV5()\n",
    "model.cuda()\n",
    "%timeit model.encode(torch.randn(1, 3, 256, 256).cuda())\n",
    "%timeit model.decode(torch.randn(1, 3, 64, 64).cuda())"
   ]
  },
  {
   "cell_type": "code",
   "execution_count": null,
   "metadata": {},
   "outputs": [],
   "source": [
    "model = models.QuantACTShuffleV5()\n",
    "%timeit model.encode(torch.randn(1, 3, 256, 256))\n",
    "%timeit model.decode(torch.randn(1, 3, 64, 64))"
   ]
  },
  {
   "cell_type": "code",
   "execution_count": null,
   "metadata": {},
   "outputs": [],
   "source": [
    "src_fldr = \"/media/cibitaw1/DATA/super_rez/professional_valid/valid\"\n",
    "dst_fldr = \"/media/cibitaw1/DATA/super_rez/professional_valid/model_test\"\n",
    "\n",
    "imgs = glob(src_fldr + os.sep + \"*.png\")"
   ]
  },
  {
   "cell_type": "code",
   "execution_count": null,
   "metadata": {},
   "outputs": [],
   "source": [
    "model.cuda()\n",
    "print('.')"
   ]
  },
  {
   "cell_type": "code",
   "execution_count": null,
   "metadata": {
    "scrolled": true
   },
   "outputs": [],
   "source": [
    "for img in tqdm(imgs):\n",
    "    compress_and_decompress(img, model, src_fldr, dst_fldr)"
   ]
  },
  {
   "cell_type": "code",
   "execution_count": null,
   "metadata": {},
   "outputs": [],
   "source": [
    "compressed_imgs = [img.replace(src_fldr, dst_fldr) for img in imgs]"
   ]
  },
  {
   "cell_type": "code",
   "execution_count": null,
   "metadata": {},
   "outputs": [],
   "source": [
    "from utils.competition_eval import evaluate2"
   ]
  },
  {
   "cell_type": "code",
   "execution_count": null,
   "metadata": {},
   "outputs": [],
   "source": [
    "results = evaluate2(compressed_imgs, imgs)"
   ]
  },
  {
   "cell_type": "code",
   "execution_count": null,
   "metadata": {},
   "outputs": [],
   "source": [
    "results"
   ]
  },
  {
   "cell_type": "code",
   "execution_count": null,
   "metadata": {},
   "outputs": [],
   "source": [
    "results"
   ]
  },
  {
   "cell_type": "code",
   "execution_count": null,
   "metadata": {},
   "outputs": [],
   "source": [
    "(29.310540294207478+28.83994787307876)/2"
   ]
  },
  {
   "cell_type": "code",
   "execution_count": null,
   "metadata": {},
   "outputs": [],
   "source": [
    "(0.9736846666083886+0.9705319931942877)/2"
   ]
  },
  {
   "cell_type": "code",
   "execution_count": null,
   "metadata": {},
   "outputs": [],
   "source": []
  }
 ],
 "metadata": {
  "kernelspec": {
   "display_name": "Python 3",
   "language": "python",
   "name": "python3"
  },
  "language_info": {
   "codemirror_mode": {
    "name": "ipython",
    "version": 3
   },
   "file_extension": ".py",
   "mimetype": "text/x-python",
   "name": "python",
   "nbconvert_exporter": "python",
   "pygments_lexer": "ipython3",
   "version": "3.7.5"
  }
 },
 "nbformat": 4,
 "nbformat_minor": 2
}
