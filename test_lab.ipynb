{
 "cells": [
  {
   "cell_type": "code",
   "execution_count": 1,
   "metadata": {},
   "outputs": [],
   "source": [
    "import os\n",
    "import numpy as np\n",
    "\n",
    "import torch\n",
    "torch.manual_seed(29)\n",
    "from torch import nn\n",
    "from torch.autograd import Variable\n",
    "import torch.backends.cudnn as cudnn\n",
    "import torch.nn.parallel\n",
    "cudnn.benchmark = True\n",
    "from torch.utils.data import DataLoader\n",
    "\n",
    "from torchstat import stat\n",
    "from utils import  models\n",
    "from utils.data import dataset_1\n",
    "from utils.trainer_utils import parfilter\n",
    "\n",
    "from PIL import Image, ImageFile\n",
    "ImageFile.LOAD_TRUNCATED_IMAGES = True\n",
    "\n",
    "from skimage.measure import compare_psnr, compare_ssim\n",
    "\n",
    "from matplotlib import pyplot as plt\n",
    "\n",
    "from glob import glob\n",
    "from tqdm import tqdm\n",
    "\n",
    "from PIL.PngImagePlugin import PngImageFile, PngInfo"
   ]
  },
  {
   "cell_type": "code",
   "execution_count": 2,
   "metadata": {},
   "outputs": [],
   "source": [
    "def image_quality_comp(I, Iout, Enout):\n",
    "    \n",
    "    for x in ['test.png', 'test_35.jpg', 'test.flif', 'test1.png', 'test1.flif', 'test_comp.png']: \n",
    "        if os.path.exists(x):os.remove(x)\n",
    "    \n",
    "    I.save('test.png')\n",
    "    Iout.save('test_comp.png')\n",
    "    I.save('test_35.jpg', quality = 35)\n",
    "    Enout.save('test1.png')\n",
    "    \n",
    "    os.system(\"flif -e test.png test.flif\")\n",
    "    os.system(\"flif -e test1.png test1.flif\")\n",
    "    \n",
    "    print('Original Image :: ')\n",
    "    print('PNG     :: ' + str(8*os.path.getsize('test.png')/(I.size[0] * I.size[1])))\n",
    "    print('JPG-35% :: ' + str(8*os.path.getsize('test_35.jpg')/(I.size[0] * I.size[1])))\n",
    "    print('FLIF    :: ' + str(8*os.path.getsize('test.flif')/(I.size[0] * I.size[1])))\n",
    "    print('Encoded Image :: ')\n",
    "    print('PNG     :: ' + str(8*os.path.getsize('test1.png')/(I.size[0] * I.size[1])))\n",
    "    print('FLIF    :: ' + str(8*os.path.getsize('test1.flif')/(I.size[0] * I.size[1])))"
   ]
  },
  {
   "cell_type": "code",
   "execution_count": 3,
   "metadata": {},
   "outputs": [],
   "source": [
    "def compress_and_decompress(img, model, src_fldr, dst_fldr):\n",
    "    I_org = Image.open(img).convert('RGB')\n",
    "    \n",
    "    s_ = 512\n",
    "    d_ = 128\n",
    "    \n",
    "    w, h = I_org.size\n",
    "    I = np.uint8(I_org).copy()\n",
    "    I = np.pad(I, ((0, int(s_*np.ceil(I.shape[0]/s_) - I.shape[0])), \n",
    "                   (0, int(s_*np.ceil(I.shape[1]/s_) - I.shape[1])), \n",
    "                   (0, 0)), mode = \"reflect\")\n",
    "    I = Image.fromarray(I)\n",
    "    \n",
    "    \n",
    "    I1 = np.float32(I)#[:256, :256, :]\n",
    "    I1 = np.transpose(I1, [2, 0, 1])\n",
    "    Iout = np.zeros_like(I1)\n",
    "    for i in range(0, I1.shape[1], s_):\n",
    "        for j in range(0, I1.shape[2], s_):\n",
    "            It = torch.from_numpy(np.expand_dims(I1[:, i:i+s_, j:j+s_], 0))/255.0\n",
    "            X = model(It.cuda())\n",
    "            X = X.data.squeeze().cpu().numpy()\n",
    "            Iout[:, i:i+s_, j:j+s_] = np.clip(X, 0, 1)\n",
    "            \n",
    "    Iout = np.uint8(255 * Iout.transpose([1, 2, 0]))\n",
    "    Iout = Image.fromarray(Iout).crop((0, 0, w, h))\n",
    "    \n",
    "    Iout.save(img.replace(src_fldr, dst_fldr))\n",
    "    return 0"
   ]
  },
  {
   "cell_type": "code",
   "execution_count": 6,
   "metadata": {},
   "outputs": [],
   "source": [
    "def perform_compression(I_org, model):\n",
    "    \n",
    "    w, h = I_org.size\n",
    "    I = np.uint8(I_org).copy()\n",
    "    I = np.pad(I, ((0, int(256*np.ceil(I.shape[0]/256) - I.shape[0])), \n",
    "                   (0, int(256*np.ceil(I.shape[1]/256) - I.shape[1])), \n",
    "                   (0, 0)), mode = \"reflect\")\n",
    "    I = Image.fromarray(I)\n",
    "    \n",
    "    \n",
    "    s_ = 512\n",
    "    d_ = 64\n",
    "    \n",
    "    c_ = s_//d_\n",
    "    \n",
    "    I1 = np.float32(I)#[:256, :256, :]\n",
    "    I1 = np.transpose(I1, [2, 0, 1])\n",
    "    Iout = np.zeros_like(I1)\n",
    "    Enout = np.zeros((3, I1.shape[1]//c_, I1.shape[2]//c_))\n",
    "    for i in range(0, I1.shape[1], s_):\n",
    "        for j in range(0, I1.shape[2], s_):\n",
    "            It = torch.from_numpy(np.expand_dims(I1[:, i:i+s_, j:j+s_], 0))/255.0\n",
    "            X = model(It.cuda())\n",
    "            X = X.data.squeeze().cpu().numpy()\n",
    "            Iout[:, i:i+s_, j:j+s_] = np.clip(X, 0, 1)\n",
    "            Xe = model.encode(It.cuda())\n",
    "            Xe = (Xe + 1)/2\n",
    "            Enout[:, i//c_:(i+s_)//c_, j//c_:(j+s_)//c_] = Xe.data.squeeze().cpu().numpy()\n",
    "    \n",
    "    \n",
    "    Iout = np.uint8(255 * Iout.transpose([1, 2, 0]))\n",
    "    Enout = np.uint8(255 * Enout.transpose([1, 2, 0]))\n",
    "    \n",
    "    Iout = Image.fromarray(Iout).crop((0, 0, w, h))\n",
    "    Enout = Image.fromarray(Enout)\n",
    "    \n",
    "    psnr = compare_psnr(np.uint8(I_org).copy(), np.uint8(Iout).copy())\n",
    "#     ssim = compare_ssim(np.uint8(I_org).copy(), np.uint8(Iout).copy())\n",
    "    \n",
    "    print('PSNR-PROP :: ' + \"{0:0.02f}\".format(psnr))\n",
    "#     print('SSIM-PROP :: ' + \"{0:0.02f}\".format(ssim), multichannel=True)\n",
    "    \n",
    "    image_quality_comp(I_org, Iout, Enout)\n",
    "    psnr = compare_psnr(np.uint8(I_org).copy(), np.uint8(Image.open('test_35.jpg')).copy())\n",
    "    print('PSNR-JPG35 :: ' + \"{0:0.02f}\".format(psnr))\n",
    "    \n",
    "    \n",
    "    return Iout, Enout"
   ]
  },
  {
   "cell_type": "code",
   "execution_count": 7,
   "metadata": {},
   "outputs": [],
   "source": [
    "def perform_compression2(I_org, model):\n",
    "    \n",
    "    w, h = I_org.size\n",
    "    I = I_org.crop((0, 0, 256*(int(np.ceil(w/256))), 256*(np.ceil(h/256))))\n",
    "    \n",
    "    s_ = 512\n",
    "    d_ = 64\n",
    "    \n",
    "    c_ = s_//d_\n",
    "    \n",
    "    I1 = np.float32(I)#[:256, :256, :]\n",
    "    I1 = np.transpose(I1, [2, 0, 1])\n",
    "    Iout = np.zeros_like(I1)\n",
    "    Enout = np.zeros((I1.shape[1]//c_, I1.shape[2]//c_))\n",
    "    for i in range(0, I1.shape[1], s_):\n",
    "        for j in range(0, I1.shape[2], s_):\n",
    "            It = torch.from_numpy(np.expand_dims(I1[:, i:i+s_, j:j+s_], 0))/255.0\n",
    "            X = model(It.cuda())\n",
    "            Iout[:, i:i+s_, j:j+s_] = np.clip(X.data.squeeze().cpu().numpy(), 0, 1)\n",
    "            Xe = model.encode(It.cuda())\n",
    "            Xe = nn.functional.pixel_shuffle((Xe + 1)/2, 2)\n",
    "            Enout[i//c_:(i+s_)//c_, j//c_:(j+s_)//c_] = Xe.data.squeeze().cpu().numpy()\n",
    "    \n",
    "    \n",
    "    Iout = np.uint8(255 * Iout.transpose([1, 2, 0]))\n",
    "    Enout = np.uint8(255 * Enout)\n",
    "    \n",
    "    Iout = Image.fromarray(Iout).crop((0, 0, w, h))\n",
    "    Enout = Image.fromarray(Enout)\n",
    "    \n",
    "    psnr = compare_psnr(np.uint8(I_org).copy(), np.uint8(Iout).copy())\n",
    "#     ssim = compare_ssim(np.uint8(I_org).copy(), np.uint8(Iout).copy(), multichannel=True)\n",
    "    \n",
    "    print('PSNR-PROP :: ' + \"{0:0.02f}\".format(psnr))\n",
    "#     print('SSIM-PROP :: ' + \"{0:0.02f}\".format(ssim))\n",
    "    image_quality_comp(I_org, Iout, Enout)\n",
    "    \n",
    "    psnr = compare_psnr(np.uint8(I_org).copy(), np.uint8(Image.open('test_35.jpg')).copy())\n",
    "    print('PSNR-JPG35 :: ' + \"{0:0.02f}\".format(psnr))\n",
    "    \n",
    "    \n",
    "    return Iout, Enout"
   ]
  },
  {
   "cell_type": "code",
   "execution_count": 8,
   "metadata": {},
   "outputs": [],
   "source": [
    "img_file = \"/media/cibitaw1/DATA/super_rez/professional_valid/valid/alberto-montalesi-176097.png\""
   ]
  },
  {
   "cell_type": "code",
   "execution_count": 9,
   "metadata": {},
   "outputs": [],
   "source": [
    "I = Image.open(img_file).convert(\"RGB\")"
   ]
  },
  {
   "cell_type": "code",
   "execution_count": 10,
   "metadata": {},
   "outputs": [
    {
     "name": "stdout",
     "output_type": "stream",
     "text": [
      ".\n"
     ]
    }
   ],
   "source": [
    "model = models.QuantACTShuffleV7()\n",
    "check_point_file = \"/media/cibitaw1/DATA/SP2020/compressACT/weights/\"+\\\n",
    "\"QuantACTShuffleV7_exp01/checkpoint.pth.tar\"\n",
    "checkpoint = torch.load(check_point_file)\n",
    "model.load_state_dict(checkpoint['state_dict'], strict = False)\n",
    "model.cuda()\n",
    "print('.')"
   ]
  },
  {
   "cell_type": "code",
   "execution_count": null,
   "metadata": {},
   "outputs": [],
   "source": [
    "M = models.QuantACTShuffleV3()\n",
    "check_point_file = \"/media/narsi/LargeData/SP_2020/compressACT/weights/QuantACTShuffleV3_exp02/model_best.pth.tar\"\n",
    "checkpoint = torch.load(check_point_file)\n",
    "M.load_state_dict(checkpoint['state_dict'], strict = False)\n",
    "\n",
    "model = models.CleanImg(M)\n",
    "check_point_file = \"/media/narsi/LargeData/SP_2020/compressACT/weights/CleanImg_exp01/model_best.pth.tar\"\n",
    "checkpoint = torch.load(check_point_file)\n",
    "model.load_state_dict(checkpoint['state_dict'], strict = False)"
   ]
  },
  {
   "cell_type": "code",
   "execution_count": 11,
   "metadata": {
    "scrolled": false
   },
   "outputs": [
    {
     "name": "stdout",
     "output_type": "stream",
     "text": [
      "PSNR-PROP :: 20.33\n",
      "Original Image :: \n",
      "PNG     :: 12.19391966250917\n",
      "JPG-35% :: 0.3347424110418195\n",
      "FLIF    :: 10.78488112160675\n",
      "Encoded Image :: \n",
      "PNG     :: 0.15893536775495232\n",
      "FLIF    :: 0.14219265865737343\n",
      "PSNR-JPG35 :: 34.73\n"
     ]
    }
   ],
   "source": [
    "Iout, Enout = perform_compression(I, model)"
   ]
  },
  {
   "cell_type": "code",
   "execution_count": 12,
   "metadata": {
    "scrolled": true
   },
   "outputs": [
    {
     "name": "stdout",
     "output_type": "stream",
     "text": [
      "3 ms ± 31.9 µs per loop (mean ± std. dev. of 7 runs, 100 loops each)\n",
      "2.21 ms ± 34.6 µs per loop (mean ± std. dev. of 7 runs, 100 loops each)\n"
     ]
    }
   ],
   "source": [
    "model = models.QuantACTShuffleV5()\n",
    "model.cuda()\n",
    "%timeit model.encode(torch.randn(1, 3, 256, 256).cuda())\n",
    "%timeit model.decode(torch.randn(1, 3, 64, 64).cuda())"
   ]
  },
  {
   "cell_type": "code",
   "execution_count": 13,
   "metadata": {},
   "outputs": [
    {
     "name": "stdout",
     "output_type": "stream",
     "text": [
      "17.5 ms ± 190 µs per loop (mean ± std. dev. of 7 runs, 100 loops each)\n",
      "27.8 ms ± 170 µs per loop (mean ± std. dev. of 7 runs, 10 loops each)\n"
     ]
    }
   ],
   "source": [
    "model = models.QuantACTShuffleV5()\n",
    "%timeit model.encode(torch.randn(1, 3, 256, 256))\n",
    "%timeit model.decode(torch.randn(1, 3, 64, 64))"
   ]
  },
  {
   "cell_type": "code",
   "execution_count": 20,
   "metadata": {},
   "outputs": [],
   "source": [
    "src_fldr = \"/media/cibitaw1/DATA/super_rez/professional_valid/valid\"\n",
    "dst_fldr = \"/media/cibitaw1/DATA/super_rez/professional_valid/model_test\"\n",
    "\n",
    "imgs = glob(src_fldr + os.sep + \"*.png\")"
   ]
  },
  {
   "cell_type": "code",
   "execution_count": 14,
   "metadata": {},
   "outputs": [
    {
     "name": "stdout",
     "output_type": "stream",
     "text": [
      ".\n"
     ]
    }
   ],
   "source": [
    "model.cuda()\n",
    "print('.')"
   ]
  },
  {
   "cell_type": "code",
   "execution_count": 21,
   "metadata": {
    "scrolled": true
   },
   "outputs": [
    {
     "name": "stderr",
     "output_type": "stream",
     "text": [
      "100%|██████████| 41/41 [00:39<00:00,  1.04s/it]\n"
     ]
    }
   ],
   "source": [
    "for img in tqdm(imgs):\n",
    "    compress_and_decompress(img, model, src_fldr, dst_fldr)"
   ]
  },
  {
   "cell_type": "code",
   "execution_count": 24,
   "metadata": {},
   "outputs": [],
   "source": [
    "compressed_imgs = [img.replace(src_fldr, dst_fldr) for img in imgs]"
   ]
  },
  {
   "cell_type": "code",
   "execution_count": 17,
   "metadata": {},
   "outputs": [],
   "source": [
    "from utils.competition_eval import evaluate2"
   ]
  },
  {
   "cell_type": "code",
   "execution_count": 25,
   "metadata": {},
   "outputs": [
    {
     "name": "stderr",
     "output_type": "stream",
     "text": [
      "41it [02:20,  3.61s/it]\n"
     ]
    }
   ],
   "source": [
    "results = evaluate2(compressed_imgs, imgs)"
   ]
  },
  {
   "cell_type": "code",
   "execution_count": 19,
   "metadata": {},
   "outputs": [
    {
     "data": {
      "text/plain": [
       "{'PSNR': 28.83994787307876, 'MSSSIM': 0.9736846666083886}"
      ]
     },
     "execution_count": 19,
     "metadata": {},
     "output_type": "execute_result"
    }
   ],
   "source": [
    "results"
   ]
  },
  {
   "cell_type": "code",
   "execution_count": 26,
   "metadata": {},
   "outputs": [
    {
     "data": {
      "text/plain": [
       "{'PSNR': 29.310540294207478, 'MSSSIM': 0.9705319931942877}"
      ]
     },
     "execution_count": 26,
     "metadata": {},
     "output_type": "execute_result"
    }
   ],
   "source": [
    "results"
   ]
  },
  {
   "cell_type": "code",
   "execution_count": 27,
   "metadata": {},
   "outputs": [
    {
     "data": {
      "text/plain": [
       "29.07524408364312"
      ]
     },
     "execution_count": 27,
     "metadata": {},
     "output_type": "execute_result"
    }
   ],
   "source": [
    "(29.310540294207478+28.83994787307876)/2"
   ]
  },
  {
   "cell_type": "code",
   "execution_count": 28,
   "metadata": {},
   "outputs": [
    {
     "data": {
      "text/plain": [
       "0.9721083299013382"
      ]
     },
     "execution_count": 28,
     "metadata": {},
     "output_type": "execute_result"
    }
   ],
   "source": [
    "(0.9736846666083886+0.9705319931942877)/2"
   ]
  },
  {
   "cell_type": "code",
   "execution_count": null,
   "metadata": {},
   "outputs": [],
   "source": []
  }
 ],
 "metadata": {
  "kernelspec": {
   "display_name": "Python 3",
   "language": "python",
   "name": "python3"
  },
  "language_info": {
   "codemirror_mode": {
    "name": "ipython",
    "version": 3
   },
   "file_extension": ".py",
   "mimetype": "text/x-python",
   "name": "python",
   "nbconvert_exporter": "python",
   "pygments_lexer": "ipython3",
   "version": "3.7.3"
  }
 },
 "nbformat": 4,
 "nbformat_minor": 2
}
