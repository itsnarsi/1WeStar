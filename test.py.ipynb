{
 "cells": [
  {
   "cell_type": "code",
   "execution_count": 1,
   "metadata": {},
   "outputs": [],
   "source": [
    "import os\n",
    "import numpy as np\n",
    "\n",
    "import torch\n",
    "torch.manual_seed(29)\n",
    "from torch import nn\n",
    "from torch.autograd import Variable\n",
    "import torch.backends.cudnn as cudnn\n",
    "import torch.nn.parallel\n",
    "cudnn.benchmark = True\n",
    "from torch.utils.data import DataLoader\n",
    "\n",
    "from torchstat import stat\n",
    "from utils import  models\n",
    "from utils.data import dataset_1\n",
    "from utils.trainer_utils import parfilter\n",
    "\n",
    "from PIL import Image, ImageFile\n",
    "ImageFile.LOAD_TRUNCATED_IMAGES = True\n",
    "\n",
    "from skimage.measure import compare_psnr, compare_ssim\n",
    "\n",
    "from matplotlib import pyplot as plt\n",
    "\n",
    "from glob import glob\n",
    "from tqdm import tqdm\n",
    "\n",
    "from torch.nn import functional as F\n",
    "from PIL.PngImagePlugin import PngImageFile, PngInfo"
   ]
  },
  {
   "cell_type": "code",
   "execution_count": 2,
   "metadata": {},
   "outputs": [],
   "source": [
    "def image_quality_comp(I, Iout, Enout):\n",
    "    \n",
    "    for x in ['test.png', 'test_35.jpg', 'test.flif', 'test1.png', 'test1.flif', 'test_comp.png']: \n",
    "        if os.path.exists(x):os.remove(x)\n",
    "    \n",
    "    I.save('test.png')\n",
    "    Iout.save('test_comp.png')\n",
    "    I.save('test_10.jpg', quality = 10)\n",
    "    Enout.save('test1.png')\n",
    "    \n",
    "    os.system(\"flif -e test.png test.flif\")\n",
    "    os.system(\"flif -e test1.png test1.flif\")\n",
    "    \n",
    "    print('Original Image :: ')\n",
    "    print('PNG     :: ' + str(8*os.path.getsize('test.png')/(I.size[0] * I.size[1])))\n",
    "    print('JPG-10% :: ' + str(8*os.path.getsize('test_10.jpg')/(I.size[0] * I.size[1])))\n",
    "    print('FLIF    :: ' + str(8*os.path.getsize('test.flif')/(I.size[0] * I.size[1])))\n",
    "    print('Encoded Image :: ')\n",
    "    print('PNG     :: ' + str(8*os.path.getsize('test1.png')/(I.size[0] * I.size[1])))\n",
    "    print('FLIF    :: ' + str(8*os.path.getsize('test1.flif')/(I.size[0] * I.size[1])))\n",
    "    \n",
    "def image_quality_comp2(I, Iout):\n",
    "    \n",
    "    for x in ['test.png', 'test_35.jpg', 'test.flif', 'test1.png', 'test1.flif', 'test_comp.png']: \n",
    "        if os.path.exists(x):os.remove(x)\n",
    "    \n",
    "    I.save('test.png')\n",
    "    Iout.save('test_comp.png')\n",
    "    I.save('test_10.jpg', quality = 10)\n",
    "    \n",
    "    os.system(\"flif -e test.png test.flif\")\n",
    "    \n",
    "    print('Original Image :: ')\n",
    "    print('PNG     :: ' + str(8*os.path.getsize('test.png')/(I.size[0] * I.size[1])))\n",
    "    print('JPG-10% :: ' + str(8*os.path.getsize('test_10.jpg')/(I.size[0] * I.size[1])))\n",
    "    print('FLIF    :: ' + str(8*os.path.getsize('test.flif')/(I.size[0] * I.size[1])))"
   ]
  },
  {
   "cell_type": "code",
   "execution_count": 3,
   "metadata": {},
   "outputs": [],
   "source": [
    "def compress_and_decompress(img, model, src_fldr, dst_fldr):\n",
    "    I_org = Image.open(img).convert('RGB')\n",
    "    \n",
    "    w, h = I_org.size\n",
    "    I = np.uint8(I_org).copy()\n",
    "    I = np.pad(I, ((0, int(256*np.ceil(I.shape[0]/256) - I.shape[0])), \n",
    "                   (0, int(256*np.ceil(I.shape[1]/256) - I.shape[1])), \n",
    "                   (0, 0)), mode = \"reflect\")\n",
    "    I = Image.fromarray(I)\n",
    "    \n",
    "    \n",
    "    s_ = 256\n",
    "    d_ = 64\n",
    "    \n",
    "    I1 = np.float32(I)#[:256, :256, :]\n",
    "    I1 = np.transpose(I1, [2, 0, 1])\n",
    "    Iout = np.zeros_like(I1)\n",
    "    for i in range(0, I1.shape[1], s_):\n",
    "        for j in range(0, I1.shape[2], s_):\n",
    "            It = torch.from_numpy(np.expand_dims(I1[:, i:i+s_, j:j+s_], 0))/255.0\n",
    "            X = model(It.cuda())\n",
    "            X = X.data.squeeze().cpu().numpy()\n",
    "            Iout[:, i:i+s_, j:j+s_] = np.clip(X, 0, 1)\n",
    "            \n",
    "    Iout = np.uint8(255 * Iout.transpose([1, 2, 0]))\n",
    "    Iout = Image.fromarray(Iout).crop((0, 0, w, h))\n",
    "    \n",
    "    Iout.save(img.replace(src_fldr, dst_fldr))\n",
    "    return Iout"
   ]
  },
  {
   "cell_type": "code",
   "execution_count": 4,
   "metadata": {},
   "outputs": [],
   "source": [
    "def perform_compression(I_org, model):\n",
    "    \n",
    "    w, h = I_org.size\n",
    "    I = np.uint8(I_org).copy()\n",
    "    I = np.pad(I, ((0, int(256*np.ceil(I.shape[0]/256) - I.shape[0])), \n",
    "                   (0, int(256*np.ceil(I.shape[1]/256) - I.shape[1])), \n",
    "                   (0, 0)), mode = \"reflect\")\n",
    "    I = Image.fromarray(I)\n",
    "    \n",
    "    \n",
    "    s_ = 512\n",
    "    d_ = 512//4\n",
    "    \n",
    "    c_ = s_//d_\n",
    "    \n",
    "    I1 = np.float32(I)#[:256, :256, :]\n",
    "    I1 = np.transpose(I1, [2, 0, 1])\n",
    "    Iout = np.zeros_like(I1)\n",
    "    Enout = np.zeros((3, I1.shape[1]//c_, I1.shape[2]//c_))\n",
    "    for i in range(0, I1.shape[1], s_):\n",
    "        for j in range(0, I1.shape[2], s_):\n",
    "            It = torch.from_numpy(np.expand_dims(I1[:, i:i+s_, j:j+s_], 0))/255.0\n",
    "            Xe = model.encode(It.cuda())\n",
    "            X = model.decode(Xe)\n",
    "            X = X.data.squeeze().cpu().numpy()\n",
    "            Iout[:, i:i+s_, j:j+s_] = np.clip(X, 0, 1)\n",
    "            Xe = (Xe + 1)/2\n",
    "            Enout[:, i//c_:(i+s_)//c_, j//c_:(j+s_)//c_] = Xe.data.squeeze().cpu().numpy()\n",
    "    \n",
    "    \n",
    "    Iout = np.uint8(255 * Iout.transpose([1, 2, 0]))\n",
    "    Enout = np.uint8(255 * Enout.transpose([1, 2, 0]))\n",
    "    \n",
    "    Iout = Image.fromarray(Iout).crop((0, 0, w, h))\n",
    "    Enout = Image.fromarray(Enout)\n",
    "    \n",
    "    psnr = compare_psnr(np.uint8(I_org).copy(), np.uint8(Iout).copy())\n",
    "#     ssim = compare_ssim(np.uint8(I_org).copy(), np.uint8(Iout).copy())\n",
    "    \n",
    "    print('PSNR-PROP :: ' + \"{0:0.02f}\".format(psnr))\n",
    "#     print('SSIM-PROP :: ' + \"{0:0.02f}\".format(ssim), multichannel=True)\n",
    "    \n",
    "    image_quality_comp(I_org, Iout, Enout)\n",
    "    psnr = compare_psnr(np.uint8(I_org).copy(), np.uint8(Image.open('test_10.jpg')).copy())\n",
    "    print('PSNR-JPG10 :: ' + \"{0:0.02f}\".format(psnr))\n",
    "    \n",
    "    \n",
    "    return Iout, Enout"
   ]
  },
  {
   "cell_type": "code",
   "execution_count": 112,
   "metadata": {},
   "outputs": [],
   "source": [
    "def compress(I_org, model):\n",
    "\n",
    "    e_ = 512\n",
    "    c_ = 4\n",
    "    d_ = e_ // c_\n",
    "    pad_ = 4\n",
    "\n",
    "    w, h = I_org.size\n",
    "\n",
    "    comp_w_new = np.ceil(w/c_)\n",
    "    comp_h_new = np.ceil(h/c_)\n",
    "\n",
    "    new_w = int(e_ * np.ceil(w/e_))\n",
    "    new_h = int(e_ * np.ceil(h/e_))\n",
    "\n",
    "    com_w = new_w // c_\n",
    "    com_h = new_h // c_\n",
    "\n",
    "    I = np.uint8(I_org).copy()\n",
    "    I = np.pad(I, ((0, int(new_h - h)),\n",
    "                   (0, int(new_w - w)),\n",
    "                   (0, 0)), mode = \"reflect\")\n",
    "    I = Image.fromarray(I)\n",
    "\n",
    "\n",
    "    I1 = np.float32(I)/255.0\n",
    "    I1 = np.transpose(I1, [2, 0, 1])\n",
    "\n",
    "    Enout = np.zeros((3, com_h, com_w))\n",
    "    Enout_w = np.zeros((3, com_h, com_w))\n",
    "    for i in list(np.arange(0, new_h, e_)):\n",
    "        for j in list(np.arange(0, new_w, e_)):\n",
    "            if i == 0:\n",
    "                x1 = int(i)\n",
    "                x2 = int((i + e_) + (pad_*2*c_))\n",
    "            else:\n",
    "                x1 = int(i - (pad_*c_))\n",
    "                x2 = int((i + e_) + (pad_*c_))\n",
    "\n",
    "            if j == 0:\n",
    "                y1 = int(j)\n",
    "                y2 = int((j + e_) + (pad_*2*c_))\n",
    "            else:\n",
    "                y1 = int(j - (pad_*c_))\n",
    "                y2 = int((j + e_) + (pad_*c_))\n",
    "            It = torch.from_numpy(np.expand_dims(I1[:, x1:x2, y1:y2], 0))\n",
    "            Xe = model.encode(It.cuda())\n",
    "            Xe = (Xe + 1.0)/2.0\n",
    "            Enout[:, x1//c_:x2//c_, y1//c_:y2//c_] += Xe.data.squeeze().cpu().numpy()\n",
    "            Enout_w[:, x1//c_:x2//c_, y1//c_:y2//c_] += 1.0\n",
    "\n",
    "    Enout = Enout/Enout_w\n",
    "    Enout = np.uint8(255 * Enout.transpose([1, 2, 0]))\n",
    "\n",
    "    Enout = Image.fromarray(Enout).crop((0, 0, comp_w_new, comp_h_new))\n",
    "\n",
    "    return Enout\n",
    "\n",
    "\n",
    "def decompress(EnIn, model, w, h):\n",
    "\n",
    "    e_ = 512\n",
    "    c_ = 4\n",
    "    d_ = e_ // c_\n",
    "    pad_ = 2\n",
    "\n",
    "#     w, h = int(EnIn.text['w']), int(EnIn.text['h'])\n",
    "\n",
    "    comp_w_new = np.ceil(w/c_)\n",
    "    comp_h_new = np.ceil(h/c_)\n",
    "\n",
    "    new_w = int(e_ * np.ceil(w/e_))\n",
    "    new_h = int(e_ * np.ceil(h/e_))\n",
    "\n",
    "    com_w = new_w // c_\n",
    "    com_h = new_h // c_\n",
    "\n",
    "\n",
    "    Iout = np.zeros((3,new_h,new_w), dtype = np.float32)\n",
    "    Iout_w = np.zeros((3,new_h,new_w), dtype = np.float32)\n",
    "\n",
    "    EnIn = np.uint8(EnIn).copy()\n",
    "    EnIn = np.pad(EnIn, ((0, int(com_h - EnIn.shape[0])),\n",
    "                         (0, int(com_w - EnIn.shape[1])),\n",
    "                         (0, 0)), mode = \"reflect\")\n",
    "\n",
    "\n",
    "    EnIn = np.float32(EnIn)/255.0\n",
    "    EnIn = np.transpose(EnIn, [2, 0, 1])\n",
    "    for i in list(np.arange(0, com_h, d_)):\n",
    "        for j in list(np.arange(0, com_w, d_)):\n",
    "\n",
    "            if i == 0:\n",
    "                x1 = int(i)\n",
    "                x2 = int((i + d_) + pad_*2)\n",
    "            else:\n",
    "                x1 = int(i - pad_)\n",
    "                x2 = int((i + d_) + pad_)\n",
    "\n",
    "            if j == 0:\n",
    "                y1 = int(j)\n",
    "                y2 = int((j + d_) + pad_*2)\n",
    "            else:\n",
    "                y1 = int(j - pad_)\n",
    "                y2 = int((j + d_) + pad_)\n",
    "\n",
    "            It = torch.from_numpy(np.expand_dims(EnIn[:, x1:x2, y1:y2], 0))\n",
    "            It = It * 2.0 - 1.0\n",
    "            Xe = model.decode(It.cuda()).data.squeeze().cpu()\n",
    "\n",
    "            Iout[:, x1*c_:x2*c_, y1*c_:y2*c_] += np.clip(Xe.numpy(), 0, 1)\n",
    "            Iout_w[:, x1*c_:x2*c_, y1*c_:y2*c_] += 1.0\n",
    "\n",
    "    Iout = Iout/Iout_w\n",
    "\n",
    "    Iout = np.uint8(255 * Iout.transpose([1, 2, 0]))\n",
    "    Iout = Image.fromarray(Iout).crop((0, 0, w, h))\n",
    "\n",
    "    return Iout\n"
   ]
  },
  {
   "cell_type": "code",
   "execution_count": 71,
   "metadata": {},
   "outputs": [],
   "source": [
    "img_file = \"/home/narsi/Downloads/openjpeg-v2.3.1-linux-x86_64/bin/alberto-montalesi-176097.tif\""
   ]
  },
  {
   "cell_type": "code",
   "execution_count": 72,
   "metadata": {},
   "outputs": [],
   "source": [
    "I = Image.open(img_file).convert(\"RGB\")"
   ]
  },
  {
   "cell_type": "code",
   "execution_count": 8,
   "metadata": {},
   "outputs": [
    {
     "name": "stdout",
     "output_type": "stream",
     "text": [
      ".\n"
     ]
    }
   ],
   "source": [
    "model = models.QuantACTShuffleV6()\n",
    "check_point_file = \"/media/narsi/LargeData/SP_2020/compressACT/weights/\"+\\\n",
    "\"QuantACTShuffleV6_exp01/checkpoint.pth.tar\"\n",
    "checkpoint = torch.load(check_point_file)\n",
    "model.load_state_dict(checkpoint['state_dict'], strict = True)\n",
    "model.cuda()\n",
    "model.eval()\n",
    "print('.')"
   ]
  },
  {
   "cell_type": "code",
   "execution_count": 16,
   "metadata": {
    "scrolled": false
   },
   "outputs": [
    {
     "name": "stdout",
     "output_type": "stream",
     "text": [
      "PSNR-PROP :: 35.23\n",
      "Original Image :: \n",
      "PNG     :: 10.80944081959707\n",
      "JPG-10% :: 0.19121737637362637\n",
      "FLIF    :: 7.085416666666666\n",
      "Encoded Image :: \n",
      "PNG     :: 0.9992931547619047\n",
      "FLIF    :: 0.9450606684981685\n",
      "PSNR-JPG10 :: 30.31\n"
     ]
    }
   ],
   "source": [
    "Iout, Enout = perform_compression(I, model)"
   ]
  },
  {
   "cell_type": "code",
   "execution_count": 5,
   "metadata": {
    "scrolled": true
   },
   "outputs": [
    {
     "name": "stdout",
     "output_type": "stream",
     "text": [
      "2.09 ms ± 10.2 µs per loop (mean ± std. dev. of 7 runs, 100 loops each)\n",
      "2.54 ms ± 14.1 µs per loop (mean ± std. dev. of 7 runs, 100 loops each)\n"
     ]
    }
   ],
   "source": [
    "model = models.QuantACTShuffleV7()\n",
    "model.cuda()\n",
    "%timeit model.encode(torch.randn(1, 3, 256, 256).cuda())\n",
    "%timeit model.decode(torch.randn(1, 3, 32, 32).cuda())"
   ]
  },
  {
   "cell_type": "code",
   "execution_count": 6,
   "metadata": {},
   "outputs": [
    {
     "name": "stdout",
     "output_type": "stream",
     "text": [
      "17.3 ms ± 148 µs per loop (mean ± std. dev. of 7 runs, 100 loops each)\n",
      "31.3 ms ± 132 µs per loop (mean ± std. dev. of 7 runs, 10 loops each)\n"
     ]
    }
   ],
   "source": [
    "model = models.QuantACTShuffleV7()\n",
    "%timeit model.encode(torch.randn(1, 3, 256, 256))\n",
    "%timeit model.decode(torch.randn(1, 3, 32, 32))"
   ]
  },
  {
   "cell_type": "code",
   "execution_count": 9,
   "metadata": {},
   "outputs": [],
   "source": [
    "src_fldr = \"/media/narsi/LargeData/DATASETS/superrez/clic_2019/professional_valid/valid\"\n",
    "dst_fldr = \"/media/narsi/LargeData/DATASETS/superrez/clic_2019/professional_valid/model_test\"\n",
    "\n",
    "imgs = glob(src_fldr + os.sep + \"*.png\")"
   ]
  },
  {
   "cell_type": "code",
   "execution_count": 8,
   "metadata": {},
   "outputs": [
    {
     "name": "stdout",
     "output_type": "stream",
     "text": [
      ".\n"
     ]
    }
   ],
   "source": [
    "model.cuda()\n",
    "print('.')"
   ]
  },
  {
   "cell_type": "code",
   "execution_count": 100,
   "metadata": {
    "scrolled": true
   },
   "outputs": [
    {
     "ename": "NameError",
     "evalue": "name 'imgs' is not defined",
     "output_type": "error",
     "traceback": [
      "\u001b[0;31m---------------------------------------------------------------------------\u001b[0m",
      "\u001b[0;31mNameError\u001b[0m                                 Traceback (most recent call last)",
      "\u001b[0;32m<ipython-input-100-a3dea9992d65>\u001b[0m in \u001b[0;36m<module>\u001b[0;34m\u001b[0m\n\u001b[0;32m----> 1\u001b[0;31m \u001b[0;32mfor\u001b[0m \u001b[0mimg\u001b[0m \u001b[0;32min\u001b[0m \u001b[0mtqdm\u001b[0m\u001b[0;34m(\u001b[0m\u001b[0mimgs\u001b[0m\u001b[0;34m)\u001b[0m\u001b[0;34m:\u001b[0m\u001b[0;34m\u001b[0m\u001b[0;34m\u001b[0m\u001b[0m\n\u001b[0m\u001b[1;32m      2\u001b[0m     \u001b[0mcompress_and_decompress\u001b[0m\u001b[0;34m(\u001b[0m\u001b[0mimg\u001b[0m\u001b[0;34m,\u001b[0m \u001b[0mmodel\u001b[0m\u001b[0;34m,\u001b[0m \u001b[0msrc_fldr\u001b[0m\u001b[0;34m,\u001b[0m \u001b[0mdst_fldr\u001b[0m\u001b[0;34m)\u001b[0m\u001b[0;34m\u001b[0m\u001b[0;34m\u001b[0m\u001b[0m\n",
      "\u001b[0;31mNameError\u001b[0m: name 'imgs' is not defined"
     ]
    }
   ],
   "source": [
    "for img in tqdm(imgs):\n",
    "    compress_and_decompress(img, model, src_fldr, dst_fldr)"
   ]
  },
  {
   "cell_type": "code",
   "execution_count": 11,
   "metadata": {},
   "outputs": [],
   "source": [
    "compressed_imgs = [img.replace(src_fldr, dst_fldr) for img in imgs]"
   ]
  },
  {
   "cell_type": "code",
   "execution_count": 12,
   "metadata": {},
   "outputs": [],
   "source": [
    "from utils.competition_eval import evaluate2"
   ]
  },
  {
   "cell_type": "code",
   "execution_count": 13,
   "metadata": {},
   "outputs": [
    {
     "name": "stderr",
     "output_type": "stream",
     "text": [
      "41it [01:36,  2.36s/it]\n"
     ]
    }
   ],
   "source": [
    "results = evaluate2(compressed_imgs, imgs)"
   ]
  },
  {
   "cell_type": "code",
   "execution_count": 14,
   "metadata": {},
   "outputs": [
    {
     "data": {
      "text/plain": [
       "{'PSNR': 29.980508816961674, 'MSSSIM': 0.968473254012289}"
      ]
     },
     "execution_count": 14,
     "metadata": {},
     "output_type": "execute_result"
    }
   ],
   "source": [
    "results"
   ]
  },
  {
   "cell_type": "code",
   "execution_count": 73,
   "metadata": {},
   "outputs": [],
   "source": [
    "jpeg2000_comp = \"/home/narsi/Downloads/openjpeg-v2.3.1-linux-x86_64/bin/opj_compress\"\n",
    "jpeg2000_decomp = \"/home/narsi/Downloads/openjpeg-v2.3.1-linux-x86_64/bin/opj_decompress\"\n",
    "src_enco_img = \"/home/narsi/local/1WeStar/test_en.png\"\n",
    "src_jp2_img = \"/home/narsi/local/1WeStar/test_en_comp.jp2\"\n",
    "src_dejp2_img = \"/home/narsi/local/1WeStar/test_en_decomp.png\""
   ]
  },
  {
   "cell_type": "code",
   "execution_count": 75,
   "metadata": {},
   "outputs": [],
   "source": [
    "Enout = compress(I, model)\n",
    "metadata = PngInfo()\n",
    "metadata.add_text(\"w\", str(I.size[0]))\n",
    "metadata.add_text(\"h\", str(I.size[1]))\n",
    "Enout.save(\"test_en.png\", pnginfo=metadata)\n",
    "Enout = Image.open(\"test_en.png\")\n",
    "\n",
    "# Iout = decompress(Enout, model)"
   ]
  },
  {
   "cell_type": "code",
   "execution_count": 30,
   "metadata": {},
   "outputs": [],
   "source": []
  },
  {
   "cell_type": "code",
   "execution_count": 113,
   "metadata": {},
   "outputs": [
    {
     "name": "stdout",
     "output_type": "stream",
     "text": [
      "[11, 34.23204259511609, '0.1363777054292003']\n"
     ]
    }
   ],
   "source": [
    "compress_ = []\n",
    "for i in [11]:\n",
    "    os.system(jpeg2000_comp + \" -i \" + src_enco_img + \" -o \" + src_jp2_img+ \" -r \" + str(i) + \" -b  64,64\")#-i \n",
    "    #-q \" + str(i) + \" -m 6\n",
    "    os.system(jpeg2000_decomp + \" -i \" + src_jp2_img + \" -o \" + src_dejp2_img)#-i \n",
    "    Enout_ = Image.open(src_dejp2_img)\n",
    "    Iout = decompress(Enout_, model, I.size[0], I.size[1])\n",
    "    p_ = compare_psnr(np.uint8(I).copy(), np.uint8(Iout).copy())\n",
    "    bpp_ = str(8*os.path.getsize(src_jp2_img)/(I.size[0] * I.size[1]))\n",
    "    compress_.append([i, p_, bpp_])\n",
    "    print([i, p_, bpp_])\n",
    "    Iout.save(\"test_q_\" + str(i) + \".png\")"
   ]
  },
  {
   "cell_type": "code",
   "execution_count": 41,
   "metadata": {},
   "outputs": [],
   "source": [
    "import sewar"
   ]
  },
  {
   "cell_type": "code",
   "execution_count": 109,
   "metadata": {},
   "outputs": [
    {
     "name": "stdout",
     "output_type": "stream",
     "text": [
      "(0.9540365745746157+0j)\n"
     ]
    }
   ],
   "source": [
    "for i in [11]:\n",
    "    print(sewar.msssim(np.uint8(I).copy(), np.uint8(Image.open(\"test_q_\" + str(i) + \".png\")).copy()))"
   ]
  },
  {
   "cell_type": "code",
   "execution_count": 45,
   "metadata": {},
   "outputs": [
    {
     "data": {
      "text/plain": [
       "[30, 29.396947787729346, '0.02867731227106227']"
      ]
     },
     "execution_count": 45,
     "metadata": {},
     "output_type": "execute_result"
    }
   ],
   "source": [
    "[5, 34.55272286482678, '0.300380608974359']\n",
    "[10, 33.62807094428767, '0.1501058836996337']\n",
    "[15, 32.731314515452034, '0.10012305402930403']\n",
    "[20, 31.954220587188562, '0.0751860119047619']\n",
    "[25, 31.386938633765247, '0.06011332417582418']\n",
    "[30, 30.852527248242634, '0.05007154304029304']\n",
    "[35, 30.362834335900537, '0.04296302655677656']\n",
    "[40, 29.937515171854972, '0.03733974358974359']\n",
    "[45, 29.712449219812854, '0.033407738095238095']\n",
    "[50, 29.483821768748406, '0.03005666208791209']\n",
    "[55, 29.208002184814802, '0.027229281135531136']\n",
    "[60, 29.024169793349355, '0.02497710622710623']\n",
    "[65, 28.787706241216036, '0.02306261446886447']\n",
    "[70, 28.695274113517897, '0.02141426282051282']\n",
    "[75, 28.56900332863841, '0.020086423992673994']\n",
    "[80, 28.40455015191608, '0.01883871336996337']\n",
    "[85, 28.291059015526017, '0.0176510989010989']\n",
    "[90, 28.196563595891835, '0.016738209706959706']\n",
    "[95, 28.02455495634968, '0.015811011904761904']\n",
    "[100, 27.87443596587932, '0.015032623626373627']\n",
    "\n",
    "## PSNR\n",
    "\n",
    "[50, 35.073917919712535, '0.5857772435897436']\n",
    "[45, 34.89198652720193, '0.4241300366300366']\n",
    "[40, 34.36491486994174, '0.23538804945054945']\n",
    "[35, 32.53138783360557, '0.09493761446886446']\n",
    "[30, 29.396947787729346, '0.02867731227106227']"
   ]
  }
 ],
 "metadata": {
  "kernelspec": {
   "display_name": "Python 3",
   "language": "python",
   "name": "python3"
  },
  "language_info": {
   "codemirror_mode": {
    "name": "ipython",
    "version": 3
   },
   "file_extension": ".py",
   "mimetype": "text/x-python",
   "name": "python",
   "nbconvert_exporter": "python",
   "pygments_lexer": "ipython3",
   "version": "3.7.5"
  }
 },
 "nbformat": 4,
 "nbformat_minor": 2
}
